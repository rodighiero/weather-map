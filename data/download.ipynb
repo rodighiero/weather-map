{
 "cells": [
  {
   "cell_type": "code",
   "execution_count": 5,
   "metadata": {
    "tags": [
     "outputPrepend"
    ]
   },
   "outputs": [
    {
     "name": "stdout",
     "output_type": "stream",
     "text": [
      "0 761960599\n",
      "10 999414931\n",
      "20 1045243023\n",
      "30 1118769001\n",
      "40 1181605467\n",
      "50 1214207916\n",
      "60 1244220082\n",
      "70 1322997832\n",
      "80 1361949136\n",
      "90 1392621471\n",
      "100 1430266638\n",
      "110 1477730871\n",
      "120 1551503565\n",
      "130 1586192311\n",
      "140 1608062745\n",
      "150 1648561457\n",
      "160 1697598729\n",
      "170 1729868125\n",
      "180 1747169434\n",
      "190 1753878605\n",
      "200 1765416315\n",
      "210 1788073783\n",
      "220 1804649855\n",
      "230 1827088350\n",
      "240 1842426282\n",
      "250 1851815953\n",
      "260 1854365613\n",
      "270 1855421317\n",
      "280 1856837290\n",
      "290 1860758070\n",
      "300 1869149320\n",
      "310 1880348398\n"
     ]
    }
   ],
   "source": [
    "import pandas as pd\n",
    "import requests\n",
    "\n",
    "# Load data\n",
    "\n",
    "dataset = 'energy-wind'\n",
    "\n",
    "csv = pd.read_csv(dataset + '.csv')\n",
    "\n",
    "# Save JSON files\n",
    "\n",
    "ids = csv['stories_id'].tolist()\n",
    "\n",
    "for index, id in enumerate(ids):\n",
    "\n",
    "    id = str(id)\n",
    "    filename = dataset + '/' + id + '.json'\n",
    "\n",
    "    try:\n",
    "        f = open(filename)\n",
    "        f.close()\n",
    "\n",
    "    except:\n",
    "        if (index % 10 == 0):\n",
    "            print(index, id)\n",
    "        r = requests.get('https://api.mediacloud.org/api/v2/stories_public/single/' +\n",
    "                         id + '?key=b2ef1a99a8fdbb84afafe742fd437c0942703072bb98242ba0eed9b8411e1735')\n",
    "        open(filename, 'wb').write(r.content)\n"
   ]
  },
  {
   "cell_type": "code",
   "execution_count": null,
   "metadata": {},
   "outputs": [],
   "source": []
  }
 ],
 "metadata": {
  "kernelspec": {
   "display_name": "Python 3.9.13 ('base')",
   "language": "python",
   "name": "python3"
  },
  "language_info": {
   "codemirror_mode": {
    "name": "ipython",
    "version": 3
   },
   "file_extension": ".py",
   "mimetype": "text/x-python",
   "name": "python",
   "nbconvert_exporter": "python",
   "pygments_lexer": "ipython3",
   "version": "3.9.13"
  },
  "orig_nbformat": 2,
  "vscode": {
   "interpreter": {
    "hash": "c30f2af5f468e7f5b45bcc30fca5f4886c90d54777aed916ed5f6294dfb24bf2"
   }
  }
 },
 "nbformat": 4,
 "nbformat_minor": 2
}
