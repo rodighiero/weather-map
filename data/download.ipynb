{
 "cells": [
  {
   "cell_type": "code",
   "execution_count": 1,
   "metadata": {
    "tags": [
     "outputPrepend"
    ]
   },
   "outputs": [
    {
     "name": "stdout",
     "output_type": "stream",
     "text": [
      "0 834382014\n",
      "10 1194061063\n",
      "20 1371770643\n",
      "30 1609629133\n",
      "40 1732989820\n",
      "50 1854175782\n",
      "60 1992534151\n",
      "70 2367524596\n",
      "80 2470566046\n"
     ]
    }
   ],
   "source": [
    "import pandas as pd\n",
    "import requests\n",
    "\n",
    "# Load data\n",
    "\n",
    "dataset = 'energy-biomass'\n",
    "\n",
    "csv = pd.read_csv(dataset + '.csv')\n",
    "\n",
    "# Save JSON files\n",
    "\n",
    "ids = csv['stories_id'].tolist()\n",
    "\n",
    "for index, id in enumerate(ids):\n",
    "\n",
    "    id = str(id)\n",
    "    filename = dataset + '/' + id + '.json'\n",
    "\n",
    "    try:\n",
    "        f = open(filename)\n",
    "        f.close()\n",
    "\n",
    "    except:\n",
    "        if (index % 10 == 0):\n",
    "            print(index, id)\n",
    "        r = requests.get('https://api.mediacloud.org/api/v2/stories_public/single/' +\n",
    "                         id + '?key=b2ef1a99a8fdbb84afafe742fd437c0942703072bb98242ba0eed9b8411e1735')\n",
    "        open(filename, 'wb').write(r.content)\n"
   ]
  },
  {
   "cell_type": "code",
   "execution_count": null,
   "metadata": {},
   "outputs": [],
   "source": []
  }
 ],
 "metadata": {
  "kernelspec": {
   "display_name": "Python 3.9.13 ('base')",
   "language": "python",
   "name": "python3"
  },
  "language_info": {
   "codemirror_mode": {
    "name": "ipython",
    "version": 3
   },
   "file_extension": ".py",
   "mimetype": "text/x-python",
   "name": "python",
   "nbconvert_exporter": "python",
   "pygments_lexer": "ipython3",
   "version": "3.9.13"
  },
  "orig_nbformat": 2,
  "vscode": {
   "interpreter": {
    "hash": "c30f2af5f468e7f5b45bcc30fca5f4886c90d54777aed916ed5f6294dfb24bf2"
   }
  }
 },
 "nbformat": 4,
 "nbformat_minor": 2
}
